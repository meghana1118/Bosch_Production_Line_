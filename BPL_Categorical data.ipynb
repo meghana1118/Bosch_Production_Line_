{
 "cells": [
  {
   "cell_type": "markdown",
   "metadata": {},
   "source": [
    "Data cleaning and EDA of Categorical training/testing data. Output as new cleaned data CSV files"
   ]
  },
  {
   "cell_type": "code",
   "execution_count": 1,
   "metadata": {},
   "outputs": [],
   "source": [
    "#import required libraries\n",
    "import pandas as pd\n",
    "import numpy as np "
   ]
  },
  {
   "cell_type": "code",
   "execution_count": 10,
   "metadata": {},
   "outputs": [
    {
     "name": "stdout",
     "output_type": "stream",
     "text": [
      "The size of traing data is: (10000, 2141) \n",
      "The size of testing data is: (10000, 2141)\n"
     ]
    }
   ],
   "source": [
    "#read the data\n",
    "train_cat=pd.read_csv(r'C:\\Users\\meghs\\Downloads\\bosch-production-line-performance\\train_categorical.csv',nrows=10000)\n",
    "test_cat=pd.read_csv(r'C:\\Users\\meghs\\Downloads\\bosch-production-line-performance\\test_categorical.csv',nrows=10000)\n",
    "print(\"The size of traing data is:\",train_cat.shape, \"\\nThe size of testing data is:\",test_cat.shape)"
   ]
  },
  {
   "cell_type": "code",
   "execution_count": 11,
   "metadata": {},
   "outputs": [
    {
     "name": "stdout",
     "output_type": "stream",
     "text": [
      "The size of traing data is: (10000, 2141) \n",
      "The size of testing data is: (10000, 2141)\n"
     ]
    }
   ],
   "source": [
    "#change NaN to 0\n",
    "train_cat=train_cat.fillna(0)\n",
    "test_cat=test_cat.fillna(0)\n",
    "print(\"The size of traing data is:\",train_cat.shape, \"\\nThe size of testing data is:\",test_cat.shape)"
   ]
  },
  {
   "cell_type": "code",
   "execution_count": 13,
   "metadata": {},
   "outputs": [
    {
     "name": "stdout",
     "output_type": "stream",
     "text": [
      "The size of training data is: (10000, 47) \n",
      "The size of testing data is: (10000, 87)\n"
     ]
    }
   ],
   "source": [
    "#Keep columns with equal or more than 3 unique values\n",
    "train_cat=train_cat.loc[:, train_cat.apply(lambda x: x.nunique()) >=3 ]\n",
    "test_cat=test_cat.loc[:, test_cat.apply(lambda x: x.nunique()) >=3 ]\n",
    "print(\"The size of training data is:\",train_cat.shape, \"\\nThe size of testing data is:\",test_cat.shape)"
   ]
  },
  {
   "cell_type": "code",
   "execution_count": 14,
   "metadata": {},
   "outputs": [],
   "source": [
    "#out new training categorical data saved as CSV\n",
    "train_cat.to_csv(r'C:\\Users\\meghs\\Downloads\\bosch-production-line-performance\\notes\\train_cat.csv')\n",
    "test_cat.to_csv(r'C:\\Users\\meghs\\Downloads\\bosch-production-line-performance\\notes\\test_cat.csv')"
   ]
  },
  {
   "cell_type": "code",
   "execution_count": 16,
   "metadata": {},
   "outputs": [
    {
     "data": {
      "text/plain": [
       "['L2_S28_F3285',\n",
       " 'L1_S24_F1530',\n",
       " 'L0_S9_F189',\n",
       " 'L1_S25_F1852',\n",
       " 'L2_S27_F3192',\n",
       " 'L2_S26_F3099',\n",
       " 'L0_S9_F159',\n",
       " 'L0_S9_F174',\n",
       " 'L1_S24_F675',\n",
       " 'L0_S9_F194',\n",
       " 'L0_S9_F184',\n",
       " 'L1_S24_F1114',\n",
       " 'L1_S24_F710',\n",
       " 'L1_S24_F705',\n",
       " 'L1_S25_F2229',\n",
       " 'L0_S9_F209',\n",
       " 'L0_S9_F204',\n",
       " 'L1_S24_F1525',\n",
       " 'L0_S9_F164',\n",
       " 'Id',\n",
       " 'L0_S10_F238',\n",
       " 'L0_S9_F169',\n",
       " 'L0_S10_F233',\n",
       " 'L0_S10_F243',\n",
       " 'L1_S24_F1137',\n",
       " 'L0_S10_F228',\n",
       " 'L0_S10_F278',\n",
       " 'L1_S24_F1510',\n",
       " 'L0_S9_F199',\n",
       " 'L1_S25_F2779',\n",
       " 'L1_S25_F2496',\n",
       " 'L0_S10_F268',\n",
       " 'L0_S9_F154',\n",
       " 'L0_S9_F214',\n",
       " 'L0_S10_F223',\n",
       " 'L0_S10_F273',\n",
       " 'L0_S10_F218',\n",
       " 'L0_S10_F263',\n",
       " 'L3_S32_F3854',\n",
       " 'L1_S24_F1140',\n",
       " 'L0_S10_F253',\n",
       " 'L0_S9_F179',\n",
       " 'L0_S10_F248',\n",
       " 'L0_S10_F258']"
      ]
     },
     "execution_count": 16,
     "metadata": {},
     "output_type": "execute_result"
    }
   ],
   "source": [
    "list(set(train_cat).intersection(test_cat))"
   ]
  },
  {
   "cell_type": "code",
   "execution_count": null,
   "metadata": {},
   "outputs": [],
   "source": []
  }
 ],
 "metadata": {
  "kernelspec": {
   "display_name": "Python 3",
   "language": "python",
   "name": "python3"
  },
  "language_info": {
   "codemirror_mode": {
    "name": "ipython",
    "version": 3
   },
   "file_extension": ".py",
   "mimetype": "text/x-python",
   "name": "python",
   "nbconvert_exporter": "python",
   "pygments_lexer": "ipython3",
   "version": "3.6.7"
  }
 },
 "nbformat": 4,
 "nbformat_minor": 2
}
