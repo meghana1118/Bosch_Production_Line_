{
 "cells": [
  {
   "cell_type": "markdown",
   "metadata": {},
   "source": [
    "# Bosch Production Line Performance"
   ]
  },
  {
   "cell_type": "markdown",
   "metadata": {},
   "source": [
    "Aim: \n",
    "Predict internal failures using thousands of measurements and tests made for each component along the assembly line,to enable Bosch to bring quality products at lower costs to the end user i.e. predict if a product gives 1 or 0.\n",
    "\n",
    "The dataset is divided on the basis of data-type.I am using only numerical values for this project."
   ]
  },
  {
   "cell_type": "code",
   "execution_count": 1,
   "metadata": {},
   "outputs": [],
   "source": [
    "#import required libraries\n",
    "import pandas as pd\n",
    "import numpy as np "
   ]
  },
  {
   "cell_type": "code",
   "execution_count": 2,
   "metadata": {},
   "outputs": [
    {
     "name": "stdout",
     "output_type": "stream",
     "text": [
      "(20000, 970)\n"
     ]
    },
    {
     "data": {
      "text/html": [
       "<div>\n",
       "<style scoped>\n",
       "    .dataframe tbody tr th:only-of-type {\n",
       "        vertical-align: middle;\n",
       "    }\n",
       "\n",
       "    .dataframe tbody tr th {\n",
       "        vertical-align: top;\n",
       "    }\n",
       "\n",
       "    .dataframe thead th {\n",
       "        text-align: right;\n",
       "    }\n",
       "</style>\n",
       "<table border=\"1\" class=\"dataframe\">\n",
       "  <thead>\n",
       "    <tr style=\"text-align: right;\">\n",
       "      <th></th>\n",
       "      <th>Id</th>\n",
       "      <th>L0_S0_F0</th>\n",
       "      <th>L0_S0_F2</th>\n",
       "      <th>L0_S0_F4</th>\n",
       "      <th>L0_S0_F6</th>\n",
       "      <th>L0_S0_F8</th>\n",
       "      <th>L0_S0_F10</th>\n",
       "      <th>L0_S0_F12</th>\n",
       "      <th>L0_S0_F14</th>\n",
       "      <th>L0_S0_F16</th>\n",
       "      <th>...</th>\n",
       "      <th>L3_S50_F4245</th>\n",
       "      <th>L3_S50_F4247</th>\n",
       "      <th>L3_S50_F4249</th>\n",
       "      <th>L3_S50_F4251</th>\n",
       "      <th>L3_S50_F4253</th>\n",
       "      <th>L3_S51_F4256</th>\n",
       "      <th>L3_S51_F4258</th>\n",
       "      <th>L3_S51_F4260</th>\n",
       "      <th>L3_S51_F4262</th>\n",
       "      <th>Response</th>\n",
       "    </tr>\n",
       "  </thead>\n",
       "  <tbody>\n",
       "    <tr>\n",
       "      <th>0</th>\n",
       "      <td>4</td>\n",
       "      <td>0.030</td>\n",
       "      <td>-0.034</td>\n",
       "      <td>-0.197</td>\n",
       "      <td>-0.179</td>\n",
       "      <td>0.118</td>\n",
       "      <td>0.116</td>\n",
       "      <td>-0.015</td>\n",
       "      <td>-0.032</td>\n",
       "      <td>0.020</td>\n",
       "      <td>...</td>\n",
       "      <td>NaN</td>\n",
       "      <td>NaN</td>\n",
       "      <td>NaN</td>\n",
       "      <td>NaN</td>\n",
       "      <td>NaN</td>\n",
       "      <td>NaN</td>\n",
       "      <td>NaN</td>\n",
       "      <td>NaN</td>\n",
       "      <td>NaN</td>\n",
       "      <td>0</td>\n",
       "    </tr>\n",
       "    <tr>\n",
       "      <th>1</th>\n",
       "      <td>6</td>\n",
       "      <td>NaN</td>\n",
       "      <td>NaN</td>\n",
       "      <td>NaN</td>\n",
       "      <td>NaN</td>\n",
       "      <td>NaN</td>\n",
       "      <td>NaN</td>\n",
       "      <td>NaN</td>\n",
       "      <td>NaN</td>\n",
       "      <td>NaN</td>\n",
       "      <td>...</td>\n",
       "      <td>NaN</td>\n",
       "      <td>NaN</td>\n",
       "      <td>NaN</td>\n",
       "      <td>NaN</td>\n",
       "      <td>NaN</td>\n",
       "      <td>NaN</td>\n",
       "      <td>NaN</td>\n",
       "      <td>NaN</td>\n",
       "      <td>NaN</td>\n",
       "      <td>0</td>\n",
       "    </tr>\n",
       "    <tr>\n",
       "      <th>2</th>\n",
       "      <td>7</td>\n",
       "      <td>0.088</td>\n",
       "      <td>0.086</td>\n",
       "      <td>0.003</td>\n",
       "      <td>-0.052</td>\n",
       "      <td>0.161</td>\n",
       "      <td>0.025</td>\n",
       "      <td>-0.015</td>\n",
       "      <td>-0.072</td>\n",
       "      <td>-0.225</td>\n",
       "      <td>...</td>\n",
       "      <td>NaN</td>\n",
       "      <td>NaN</td>\n",
       "      <td>NaN</td>\n",
       "      <td>NaN</td>\n",
       "      <td>NaN</td>\n",
       "      <td>NaN</td>\n",
       "      <td>NaN</td>\n",
       "      <td>NaN</td>\n",
       "      <td>NaN</td>\n",
       "      <td>0</td>\n",
       "    </tr>\n",
       "    <tr>\n",
       "      <th>3</th>\n",
       "      <td>9</td>\n",
       "      <td>-0.036</td>\n",
       "      <td>-0.064</td>\n",
       "      <td>0.294</td>\n",
       "      <td>0.330</td>\n",
       "      <td>0.074</td>\n",
       "      <td>0.161</td>\n",
       "      <td>0.022</td>\n",
       "      <td>0.128</td>\n",
       "      <td>-0.026</td>\n",
       "      <td>...</td>\n",
       "      <td>NaN</td>\n",
       "      <td>NaN</td>\n",
       "      <td>NaN</td>\n",
       "      <td>NaN</td>\n",
       "      <td>NaN</td>\n",
       "      <td>NaN</td>\n",
       "      <td>NaN</td>\n",
       "      <td>NaN</td>\n",
       "      <td>NaN</td>\n",
       "      <td>0</td>\n",
       "    </tr>\n",
       "    <tr>\n",
       "      <th>4</th>\n",
       "      <td>11</td>\n",
       "      <td>-0.055</td>\n",
       "      <td>-0.086</td>\n",
       "      <td>0.294</td>\n",
       "      <td>0.330</td>\n",
       "      <td>0.118</td>\n",
       "      <td>0.025</td>\n",
       "      <td>0.030</td>\n",
       "      <td>0.168</td>\n",
       "      <td>-0.169</td>\n",
       "      <td>...</td>\n",
       "      <td>NaN</td>\n",
       "      <td>NaN</td>\n",
       "      <td>NaN</td>\n",
       "      <td>NaN</td>\n",
       "      <td>NaN</td>\n",
       "      <td>NaN</td>\n",
       "      <td>NaN</td>\n",
       "      <td>NaN</td>\n",
       "      <td>NaN</td>\n",
       "      <td>0</td>\n",
       "    </tr>\n",
       "  </tbody>\n",
       "</table>\n",
       "<p>5 rows × 970 columns</p>\n",
       "</div>"
      ],
      "text/plain": [
       "   Id  L0_S0_F0  L0_S0_F2  L0_S0_F4  L0_S0_F6  L0_S0_F8  L0_S0_F10  L0_S0_F12  \\\n",
       "0   4     0.030    -0.034    -0.197    -0.179     0.118      0.116     -0.015   \n",
       "1   6       NaN       NaN       NaN       NaN       NaN        NaN        NaN   \n",
       "2   7     0.088     0.086     0.003    -0.052     0.161      0.025     -0.015   \n",
       "3   9    -0.036    -0.064     0.294     0.330     0.074      0.161      0.022   \n",
       "4  11    -0.055    -0.086     0.294     0.330     0.118      0.025      0.030   \n",
       "\n",
       "   L0_S0_F14  L0_S0_F16    ...     L3_S50_F4245  L3_S50_F4247  L3_S50_F4249  \\\n",
       "0     -0.032      0.020    ...              NaN           NaN           NaN   \n",
       "1        NaN        NaN    ...              NaN           NaN           NaN   \n",
       "2     -0.072     -0.225    ...              NaN           NaN           NaN   \n",
       "3      0.128     -0.026    ...              NaN           NaN           NaN   \n",
       "4      0.168     -0.169    ...              NaN           NaN           NaN   \n",
       "\n",
       "   L3_S50_F4251  L3_S50_F4253  L3_S51_F4256  L3_S51_F4258  L3_S51_F4260  \\\n",
       "0           NaN           NaN           NaN           NaN           NaN   \n",
       "1           NaN           NaN           NaN           NaN           NaN   \n",
       "2           NaN           NaN           NaN           NaN           NaN   \n",
       "3           NaN           NaN           NaN           NaN           NaN   \n",
       "4           NaN           NaN           NaN           NaN           NaN   \n",
       "\n",
       "   L3_S51_F4262  Response  \n",
       "0           NaN         0  \n",
       "1           NaN         0  \n",
       "2           NaN         0  \n",
       "3           NaN         0  \n",
       "4           NaN         0  \n",
       "\n",
       "[5 rows x 970 columns]"
      ]
     },
     "execution_count": 2,
     "metadata": {},
     "output_type": "execute_result"
    }
   ],
   "source": [
    "#read the partial data from files\n",
    "#loading only part of the data\n",
    "train_data_num=pd.read_csv(r'C:\\Users\\meghs\\Downloads\\bosch-production-line-performance\\train_numeric.csv',nrows=20000) \n",
    "print(train_data_num.shape)\n",
    "train_data_num.head()"
   ]
  },
  {
   "cell_type": "code",
   "execution_count": 4,
   "metadata": {},
   "outputs": [
    {
     "name": "stdout",
     "output_type": "stream",
     "text": [
      "(20000, 174)\n"
     ]
    },
    {
     "data": {
      "text/html": [
       "<div>\n",
       "<style scoped>\n",
       "    .dataframe tbody tr th:only-of-type {\n",
       "        vertical-align: middle;\n",
       "    }\n",
       "\n",
       "    .dataframe tbody tr th {\n",
       "        vertical-align: top;\n",
       "    }\n",
       "\n",
       "    .dataframe thead th {\n",
       "        text-align: right;\n",
       "    }\n",
       "</style>\n",
       "<table border=\"1\" class=\"dataframe\">\n",
       "  <thead>\n",
       "    <tr style=\"text-align: right;\">\n",
       "      <th></th>\n",
       "      <th>Id</th>\n",
       "      <th>L0_S0_F0</th>\n",
       "      <th>L0_S0_F2</th>\n",
       "      <th>L0_S0_F4</th>\n",
       "      <th>L0_S0_F6</th>\n",
       "      <th>L0_S0_F8</th>\n",
       "      <th>L0_S0_F10</th>\n",
       "      <th>L0_S0_F12</th>\n",
       "      <th>L0_S0_F14</th>\n",
       "      <th>L0_S0_F16</th>\n",
       "      <th>...</th>\n",
       "      <th>L3_S36_F3924</th>\n",
       "      <th>L3_S36_F3926</th>\n",
       "      <th>L3_S36_F3930</th>\n",
       "      <th>L3_S36_F3934</th>\n",
       "      <th>L3_S36_F3938</th>\n",
       "      <th>L3_S37_F3944</th>\n",
       "      <th>L3_S37_F3946</th>\n",
       "      <th>L3_S37_F3948</th>\n",
       "      <th>L3_S37_F3950</th>\n",
       "      <th>Response</th>\n",
       "    </tr>\n",
       "  </thead>\n",
       "  <tbody>\n",
       "    <tr>\n",
       "      <th>0</th>\n",
       "      <td>4</td>\n",
       "      <td>0.030</td>\n",
       "      <td>-0.034</td>\n",
       "      <td>-0.197</td>\n",
       "      <td>-0.179</td>\n",
       "      <td>0.118</td>\n",
       "      <td>0.116</td>\n",
       "      <td>-0.015</td>\n",
       "      <td>-0.032</td>\n",
       "      <td>0.020</td>\n",
       "      <td>...</td>\n",
       "      <td>0.000</td>\n",
       "      <td>0.0</td>\n",
       "      <td>0.0</td>\n",
       "      <td>0.0</td>\n",
       "      <td>0.0</td>\n",
       "      <td>0.0</td>\n",
       "      <td>0.0</td>\n",
       "      <td>0.0</td>\n",
       "      <td>0.0</td>\n",
       "      <td>0</td>\n",
       "    </tr>\n",
       "    <tr>\n",
       "      <th>1</th>\n",
       "      <td>6</td>\n",
       "      <td>0.000</td>\n",
       "      <td>0.000</td>\n",
       "      <td>0.000</td>\n",
       "      <td>0.000</td>\n",
       "      <td>0.000</td>\n",
       "      <td>0.000</td>\n",
       "      <td>0.000</td>\n",
       "      <td>0.000</td>\n",
       "      <td>0.000</td>\n",
       "      <td>...</td>\n",
       "      <td>0.000</td>\n",
       "      <td>0.0</td>\n",
       "      <td>0.0</td>\n",
       "      <td>0.0</td>\n",
       "      <td>0.0</td>\n",
       "      <td>0.0</td>\n",
       "      <td>0.0</td>\n",
       "      <td>0.0</td>\n",
       "      <td>0.0</td>\n",
       "      <td>0</td>\n",
       "    </tr>\n",
       "    <tr>\n",
       "      <th>2</th>\n",
       "      <td>7</td>\n",
       "      <td>0.088</td>\n",
       "      <td>0.086</td>\n",
       "      <td>0.003</td>\n",
       "      <td>-0.052</td>\n",
       "      <td>0.161</td>\n",
       "      <td>0.025</td>\n",
       "      <td>-0.015</td>\n",
       "      <td>-0.072</td>\n",
       "      <td>-0.225</td>\n",
       "      <td>...</td>\n",
       "      <td>0.000</td>\n",
       "      <td>0.0</td>\n",
       "      <td>0.0</td>\n",
       "      <td>0.0</td>\n",
       "      <td>0.0</td>\n",
       "      <td>0.0</td>\n",
       "      <td>0.0</td>\n",
       "      <td>0.0</td>\n",
       "      <td>0.0</td>\n",
       "      <td>0</td>\n",
       "    </tr>\n",
       "    <tr>\n",
       "      <th>3</th>\n",
       "      <td>9</td>\n",
       "      <td>-0.036</td>\n",
       "      <td>-0.064</td>\n",
       "      <td>0.294</td>\n",
       "      <td>0.330</td>\n",
       "      <td>0.074</td>\n",
       "      <td>0.161</td>\n",
       "      <td>0.022</td>\n",
       "      <td>0.128</td>\n",
       "      <td>-0.026</td>\n",
       "      <td>...</td>\n",
       "      <td>-0.030</td>\n",
       "      <td>0.0</td>\n",
       "      <td>0.0</td>\n",
       "      <td>0.0</td>\n",
       "      <td>0.0</td>\n",
       "      <td>0.0</td>\n",
       "      <td>0.0</td>\n",
       "      <td>0.0</td>\n",
       "      <td>0.0</td>\n",
       "      <td>0</td>\n",
       "    </tr>\n",
       "    <tr>\n",
       "      <th>4</th>\n",
       "      <td>11</td>\n",
       "      <td>-0.055</td>\n",
       "      <td>-0.086</td>\n",
       "      <td>0.294</td>\n",
       "      <td>0.330</td>\n",
       "      <td>0.118</td>\n",
       "      <td>0.025</td>\n",
       "      <td>0.030</td>\n",
       "      <td>0.168</td>\n",
       "      <td>-0.169</td>\n",
       "      <td>...</td>\n",
       "      <td>0.083</td>\n",
       "      <td>0.0</td>\n",
       "      <td>0.0</td>\n",
       "      <td>0.0</td>\n",
       "      <td>0.0</td>\n",
       "      <td>0.0</td>\n",
       "      <td>0.0</td>\n",
       "      <td>0.0</td>\n",
       "      <td>0.0</td>\n",
       "      <td>0</td>\n",
       "    </tr>\n",
       "  </tbody>\n",
       "</table>\n",
       "<p>5 rows × 174 columns</p>\n",
       "</div>"
      ],
      "text/plain": [
       "   Id  L0_S0_F0  L0_S0_F2  L0_S0_F4  L0_S0_F6  L0_S0_F8  L0_S0_F10  L0_S0_F12  \\\n",
       "0   4     0.030    -0.034    -0.197    -0.179     0.118      0.116     -0.015   \n",
       "1   6     0.000     0.000     0.000     0.000     0.000      0.000      0.000   \n",
       "2   7     0.088     0.086     0.003    -0.052     0.161      0.025     -0.015   \n",
       "3   9    -0.036    -0.064     0.294     0.330     0.074      0.161      0.022   \n",
       "4  11    -0.055    -0.086     0.294     0.330     0.118      0.025      0.030   \n",
       "\n",
       "   L0_S0_F14  L0_S0_F16    ...     L3_S36_F3924  L3_S36_F3926  L3_S36_F3930  \\\n",
       "0     -0.032      0.020    ...            0.000           0.0           0.0   \n",
       "1      0.000      0.000    ...            0.000           0.0           0.0   \n",
       "2     -0.072     -0.225    ...            0.000           0.0           0.0   \n",
       "3      0.128     -0.026    ...           -0.030           0.0           0.0   \n",
       "4      0.168     -0.169    ...            0.083           0.0           0.0   \n",
       "\n",
       "   L3_S36_F3934  L3_S36_F3938  L3_S37_F3944  L3_S37_F3946  L3_S37_F3948  \\\n",
       "0           0.0           0.0           0.0           0.0           0.0   \n",
       "1           0.0           0.0           0.0           0.0           0.0   \n",
       "2           0.0           0.0           0.0           0.0           0.0   \n",
       "3           0.0           0.0           0.0           0.0           0.0   \n",
       "4           0.0           0.0           0.0           0.0           0.0   \n",
       "\n",
       "   L3_S37_F3950  Response  \n",
       "0           0.0         0  \n",
       "1           0.0         0  \n",
       "2           0.0         0  \n",
       "3           0.0         0  \n",
       "4           0.0         0  \n",
       "\n",
       "[5 rows x 174 columns]"
      ]
     },
     "execution_count": 4,
     "metadata": {},
     "output_type": "execute_result"
    }
   ],
   "source": [
    "train_data_num=train_data_num.dropna(axis=1,thresh = int(len(train_data_num)*0.3)) #drop if a feature has NaN more than %\n",
    "train_data_num = train_data_num.fillna(0) #Kepping it simple by filling NaN with 0\n",
    "print(train_data_num.shape)\n",
    "train_data_num.head() #features reduced"
   ]
  },
  {
   "cell_type": "code",
   "execution_count": 5,
   "metadata": {},
   "outputs": [
    {
     "data": {
      "text/html": [
       "<div>\n",
       "<style scoped>\n",
       "    .dataframe tbody tr th:only-of-type {\n",
       "        vertical-align: middle;\n",
       "    }\n",
       "\n",
       "    .dataframe tbody tr th {\n",
       "        vertical-align: top;\n",
       "    }\n",
       "\n",
       "    .dataframe thead th {\n",
       "        text-align: right;\n",
       "    }\n",
       "</style>\n",
       "<table border=\"1\" class=\"dataframe\">\n",
       "  <thead>\n",
       "    <tr style=\"text-align: right;\">\n",
       "      <th></th>\n",
       "      <th>Id</th>\n",
       "      <th>L0_S0_F0</th>\n",
       "      <th>L0_S0_F2</th>\n",
       "      <th>L0_S0_F4</th>\n",
       "      <th>L0_S0_F6</th>\n",
       "      <th>L0_S0_F8</th>\n",
       "      <th>L0_S0_F10</th>\n",
       "      <th>L0_S0_F12</th>\n",
       "      <th>L0_S0_F14</th>\n",
       "      <th>L0_S0_F16</th>\n",
       "      <th>...</th>\n",
       "      <th>L3_S36_F3924</th>\n",
       "      <th>L3_S36_F3926</th>\n",
       "      <th>L3_S36_F3930</th>\n",
       "      <th>L3_S36_F3934</th>\n",
       "      <th>L3_S36_F3938</th>\n",
       "      <th>L3_S37_F3944</th>\n",
       "      <th>L3_S37_F3946</th>\n",
       "      <th>L3_S37_F3948</th>\n",
       "      <th>L3_S37_F3950</th>\n",
       "      <th>Response</th>\n",
       "    </tr>\n",
       "  </thead>\n",
       "  <tbody>\n",
       "    <tr>\n",
       "      <th>count</th>\n",
       "      <td>20000.000000</td>\n",
       "      <td>20000.000000</td>\n",
       "      <td>20000.000000</td>\n",
       "      <td>20000.000000</td>\n",
       "      <td>20000.000000</td>\n",
       "      <td>20000.000000</td>\n",
       "      <td>20000.000000</td>\n",
       "      <td>20000.000000</td>\n",
       "      <td>20000.000000</td>\n",
       "      <td>20000.000000</td>\n",
       "      <td>...</td>\n",
       "      <td>20000.000000</td>\n",
       "      <td>20000.000000</td>\n",
       "      <td>20000.000000</td>\n",
       "      <td>20000.000000</td>\n",
       "      <td>20000.000000</td>\n",
       "      <td>2.000000e+04</td>\n",
       "      <td>20000.000000</td>\n",
       "      <td>20000.000000</td>\n",
       "      <td>20000.000000</td>\n",
       "      <td>20000.000000</td>\n",
       "    </tr>\n",
       "    <tr>\n",
       "      <th>mean</th>\n",
       "      <td>19967.531350</td>\n",
       "      <td>-0.000955</td>\n",
       "      <td>-0.001188</td>\n",
       "      <td>0.001496</td>\n",
       "      <td>0.001391</td>\n",
       "      <td>-0.000146</td>\n",
       "      <td>0.002605</td>\n",
       "      <td>0.000252</td>\n",
       "      <td>0.001476</td>\n",
       "      <td>-0.000491</td>\n",
       "      <td>...</td>\n",
       "      <td>0.000021</td>\n",
       "      <td>-0.000003</td>\n",
       "      <td>0.000007</td>\n",
       "      <td>0.000023</td>\n",
       "      <td>0.000067</td>\n",
       "      <td>7.500000e-07</td>\n",
       "      <td>0.000019</td>\n",
       "      <td>0.000014</td>\n",
       "      <td>0.000033</td>\n",
       "      <td>0.005600</td>\n",
       "    </tr>\n",
       "    <tr>\n",
       "      <th>std</th>\n",
       "      <td>11555.759467</td>\n",
       "      <td>0.060993</td>\n",
       "      <td>0.070782</td>\n",
       "      <td>0.161779</td>\n",
       "      <td>0.161943</td>\n",
       "      <td>0.071513</td>\n",
       "      <td>0.124073</td>\n",
       "      <td>0.014849</td>\n",
       "      <td>0.080411</td>\n",
       "      <td>0.086990</td>\n",
       "      <td>...</td>\n",
       "      <td>0.080757</td>\n",
       "      <td>0.000066</td>\n",
       "      <td>0.000656</td>\n",
       "      <td>0.001026</td>\n",
       "      <td>0.004719</td>\n",
       "      <td>8.573100e-05</td>\n",
       "      <td>0.002435</td>\n",
       "      <td>0.000535</td>\n",
       "      <td>0.001546</td>\n",
       "      <td>0.074625</td>\n",
       "    </tr>\n",
       "    <tr>\n",
       "      <th>min</th>\n",
       "      <td>4.000000</td>\n",
       "      <td>-0.363000</td>\n",
       "      <td>-0.429000</td>\n",
       "      <td>-0.397000</td>\n",
       "      <td>-0.397000</td>\n",
       "      <td>-0.404000</td>\n",
       "      <td>-0.566000</td>\n",
       "      <td>-0.044000</td>\n",
       "      <td>-0.232000</td>\n",
       "      <td>-0.393000</td>\n",
       "      <td>...</td>\n",
       "      <td>-0.275000</td>\n",
       "      <td>-0.002000</td>\n",
       "      <td>0.000000</td>\n",
       "      <td>0.000000</td>\n",
       "      <td>0.000000</td>\n",
       "      <td>0.000000e+00</td>\n",
       "      <td>0.000000</td>\n",
       "      <td>0.000000</td>\n",
       "      <td>0.000000</td>\n",
       "      <td>0.000000</td>\n",
       "    </tr>\n",
       "    <tr>\n",
       "      <th>25%</th>\n",
       "      <td>9974.750000</td>\n",
       "      <td>-0.010000</td>\n",
       "      <td>-0.011000</td>\n",
       "      <td>-0.052000</td>\n",
       "      <td>-0.052000</td>\n",
       "      <td>-0.013000</td>\n",
       "      <td>0.000000</td>\n",
       "      <td>-0.007000</td>\n",
       "      <td>-0.032000</td>\n",
       "      <td>-0.021000</td>\n",
       "      <td>...</td>\n",
       "      <td>-0.019000</td>\n",
       "      <td>0.000000</td>\n",
       "      <td>0.000000</td>\n",
       "      <td>0.000000</td>\n",
       "      <td>0.000000</td>\n",
       "      <td>0.000000e+00</td>\n",
       "      <td>0.000000</td>\n",
       "      <td>0.000000</td>\n",
       "      <td>0.000000</td>\n",
       "      <td>0.000000</td>\n",
       "    </tr>\n",
       "    <tr>\n",
       "      <th>50%</th>\n",
       "      <td>19924.000000</td>\n",
       "      <td>0.000000</td>\n",
       "      <td>0.000000</td>\n",
       "      <td>0.000000</td>\n",
       "      <td>0.000000</td>\n",
       "      <td>0.000000</td>\n",
       "      <td>0.000000</td>\n",
       "      <td>0.000000</td>\n",
       "      <td>0.000000</td>\n",
       "      <td>0.000000</td>\n",
       "      <td>...</td>\n",
       "      <td>0.000000</td>\n",
       "      <td>0.000000</td>\n",
       "      <td>0.000000</td>\n",
       "      <td>0.000000</td>\n",
       "      <td>0.000000</td>\n",
       "      <td>0.000000e+00</td>\n",
       "      <td>0.000000</td>\n",
       "      <td>0.000000</td>\n",
       "      <td>0.000000</td>\n",
       "      <td>0.000000</td>\n",
       "    </tr>\n",
       "    <tr>\n",
       "      <th>75%</th>\n",
       "      <td>30033.500000</td>\n",
       "      <td>0.016000</td>\n",
       "      <td>0.019000</td>\n",
       "      <td>0.000000</td>\n",
       "      <td>0.000000</td>\n",
       "      <td>0.031000</td>\n",
       "      <td>0.070000</td>\n",
       "      <td>0.000000</td>\n",
       "      <td>0.008000</td>\n",
       "      <td>0.015000</td>\n",
       "      <td>...</td>\n",
       "      <td>0.000000</td>\n",
       "      <td>0.000000</td>\n",
       "      <td>0.000000</td>\n",
       "      <td>0.000000</td>\n",
       "      <td>0.000000</td>\n",
       "      <td>0.000000e+00</td>\n",
       "      <td>0.000000</td>\n",
       "      <td>0.000000</td>\n",
       "      <td>0.000000</td>\n",
       "      <td>0.000000</td>\n",
       "    </tr>\n",
       "    <tr>\n",
       "      <th>max</th>\n",
       "      <td>40065.000000</td>\n",
       "      <td>0.278000</td>\n",
       "      <td>0.280000</td>\n",
       "      <td>0.567000</td>\n",
       "      <td>0.566000</td>\n",
       "      <td>0.292000</td>\n",
       "      <td>0.206000</td>\n",
       "      <td>0.096000</td>\n",
       "      <td>0.528000</td>\n",
       "      <td>0.393000</td>\n",
       "      <td>...</td>\n",
       "      <td>0.531000</td>\n",
       "      <td>0.001000</td>\n",
       "      <td>0.090000</td>\n",
       "      <td>0.121000</td>\n",
       "      <td>0.632000</td>\n",
       "      <td>1.200000e-02</td>\n",
       "      <td>0.344000</td>\n",
       "      <td>0.056000</td>\n",
       "      <td>0.192000</td>\n",
       "      <td>1.000000</td>\n",
       "    </tr>\n",
       "  </tbody>\n",
       "</table>\n",
       "<p>8 rows × 174 columns</p>\n",
       "</div>"
      ],
      "text/plain": [
       "                 Id      L0_S0_F0      L0_S0_F2      L0_S0_F4      L0_S0_F6  \\\n",
       "count  20000.000000  20000.000000  20000.000000  20000.000000  20000.000000   \n",
       "mean   19967.531350     -0.000955     -0.001188      0.001496      0.001391   \n",
       "std    11555.759467      0.060993      0.070782      0.161779      0.161943   \n",
       "min        4.000000     -0.363000     -0.429000     -0.397000     -0.397000   \n",
       "25%     9974.750000     -0.010000     -0.011000     -0.052000     -0.052000   \n",
       "50%    19924.000000      0.000000      0.000000      0.000000      0.000000   \n",
       "75%    30033.500000      0.016000      0.019000      0.000000      0.000000   \n",
       "max    40065.000000      0.278000      0.280000      0.567000      0.566000   \n",
       "\n",
       "           L0_S0_F8     L0_S0_F10     L0_S0_F12     L0_S0_F14     L0_S0_F16  \\\n",
       "count  20000.000000  20000.000000  20000.000000  20000.000000  20000.000000   \n",
       "mean      -0.000146      0.002605      0.000252      0.001476     -0.000491   \n",
       "std        0.071513      0.124073      0.014849      0.080411      0.086990   \n",
       "min       -0.404000     -0.566000     -0.044000     -0.232000     -0.393000   \n",
       "25%       -0.013000      0.000000     -0.007000     -0.032000     -0.021000   \n",
       "50%        0.000000      0.000000      0.000000      0.000000      0.000000   \n",
       "75%        0.031000      0.070000      0.000000      0.008000      0.015000   \n",
       "max        0.292000      0.206000      0.096000      0.528000      0.393000   \n",
       "\n",
       "           ...       L3_S36_F3924  L3_S36_F3926  L3_S36_F3930  L3_S36_F3934  \\\n",
       "count      ...       20000.000000  20000.000000  20000.000000  20000.000000   \n",
       "mean       ...           0.000021     -0.000003      0.000007      0.000023   \n",
       "std        ...           0.080757      0.000066      0.000656      0.001026   \n",
       "min        ...          -0.275000     -0.002000      0.000000      0.000000   \n",
       "25%        ...          -0.019000      0.000000      0.000000      0.000000   \n",
       "50%        ...           0.000000      0.000000      0.000000      0.000000   \n",
       "75%        ...           0.000000      0.000000      0.000000      0.000000   \n",
       "max        ...           0.531000      0.001000      0.090000      0.121000   \n",
       "\n",
       "       L3_S36_F3938  L3_S37_F3944  L3_S37_F3946  L3_S37_F3948  L3_S37_F3950  \\\n",
       "count  20000.000000  2.000000e+04  20000.000000  20000.000000  20000.000000   \n",
       "mean       0.000067  7.500000e-07      0.000019      0.000014      0.000033   \n",
       "std        0.004719  8.573100e-05      0.002435      0.000535      0.001546   \n",
       "min        0.000000  0.000000e+00      0.000000      0.000000      0.000000   \n",
       "25%        0.000000  0.000000e+00      0.000000      0.000000      0.000000   \n",
       "50%        0.000000  0.000000e+00      0.000000      0.000000      0.000000   \n",
       "75%        0.000000  0.000000e+00      0.000000      0.000000      0.000000   \n",
       "max        0.632000  1.200000e-02      0.344000      0.056000      0.192000   \n",
       "\n",
       "           Response  \n",
       "count  20000.000000  \n",
       "mean       0.005600  \n",
       "std        0.074625  \n",
       "min        0.000000  \n",
       "25%        0.000000  \n",
       "50%        0.000000  \n",
       "75%        0.000000  \n",
       "max        1.000000  \n",
       "\n",
       "[8 rows x 174 columns]"
      ]
     },
     "execution_count": 5,
     "metadata": {},
     "output_type": "execute_result"
    }
   ],
   "source": [
    "train_data_num.describe()"
   ]
  },
  {
   "cell_type": "code",
   "execution_count": 6,
   "metadata": {},
   "outputs": [],
   "source": [
    "#divide the data into train/validation & test data\n",
    "train_num = train_data_num[:15000]\n",
    "test_num = train_data_num[15000:] #pristne testing data"
   ]
  },
  {
   "cell_type": "code",
   "execution_count": 7,
   "metadata": {},
   "outputs": [
    {
     "data": {
      "text/plain": [
       "0    14912\n",
       "1       88\n",
       "dtype: int64"
      ]
     },
     "execution_count": 7,
     "metadata": {},
     "output_type": "execute_result"
    }
   ],
   "source": [
    "#Check if data is imabalanced\n",
    "pd.value_counts(train_num[\"Response\"].values, sort=False) #Highly unbalance dataset"
   ]
  },
  {
   "cell_type": "code",
   "execution_count": 8,
   "metadata": {},
   "outputs": [
    {
     "name": "stdout",
     "output_type": "stream",
     "text": [
      "Proportion: 169.45 : 1\n"
     ]
    }
   ],
   "source": [
    "print('Proportion:', round(14912 / 88, 2), ': 1')"
   ]
  },
  {
   "cell_type": "code",
   "execution_count": 9,
   "metadata": {},
   "outputs": [],
   "source": [
    "#A visual of unbalanced data\n",
    "train_num[\"Response\"].value_counts().plot(kind='bar', title='Count (target)');"
   ]
  },
  {
   "cell_type": "code",
   "execution_count": 11,
   "metadata": {},
   "outputs": [],
   "source": [
    "#Re-sampling data to atleast get 60-40 ratio of classes\n",
    "\n",
    "# Divide by class\n",
    "df_class_0 = train_num[train_num[\"Response\"] == 0]\n",
    "df_class_1 = train_num[train_num[\"Response\"] == 1]"
   ]
  },
  {
   "cell_type": "code",
   "execution_count": 25,
   "metadata": {},
   "outputs": [
    {
     "name": "stdout",
     "output_type": "stream",
     "text": [
      "Random under-sampling:\n",
      "1    8000\n",
      "0    7000\n",
      "Name: Response, dtype: int64\n"
     ]
    },
    {
     "data": {
      "image/png": "[encoded data removed]",
      "text/plain": [
       "<Figure size 432x288 with 1 Axes>"
      ]
     },
     "metadata": {
      "needs_background": "light"
     },
     "output_type": "display_data"
    }
   ],
   "source": [
    "#undersampling\n",
    "df_class_0_under = df_class_0.sample(7000)\n",
    "\n",
    "#oversampling\n",
    "df_class_1_over = df_class_1.sample(8000,replace=True)\n",
    "\n",
    "df_test = pd.concat([df_class_0_under, df_class_1_over], axis=0)\n",
    "\n",
    "print('Random under-sampling:')\n",
    "print(df_test[\"Response\"].value_counts())\n",
    "\n",
    "df_test[\"Response\"].value_counts().plot(kind='bar', title='Count (target)');\n"
   ]
  },
  {
   "cell_type": "code",
   "execution_count": 26,
   "metadata": {},
   "outputs": [
    {
     "name": "stdout",
     "output_type": "stream",
     "text": [
      "       L0_S0_F0  L0_S0_F2  L0_S0_F4  L0_S0_F6  L0_S0_F8  L0_S0_F10  L0_S0_F12  \\\n",
      "13121     0.000     0.000     0.000     0.000     0.000      0.000      0.000   \n",
      "1776      0.000     0.000     0.000     0.000     0.000      0.000      0.000   \n",
      "5109     -0.095    -0.071    -0.052    -0.016    -0.100      0.025      0.022   \n",
      "5707     -0.095    -0.101     0.385     0.348     0.031     -0.112      0.008   \n",
      "6549      0.088     0.063    -0.179    -0.197    -0.187     -0.384     -0.022   \n",
      "\n",
      "       L0_S0_F14  L0_S0_F16  L0_S0_F18      ...       L3_S36_F3922  \\\n",
      "13121      0.000      0.000      0.000      ...                0.0   \n",
      "1776       0.000      0.000      0.000      ...                0.0   \n",
      "5109       0.048     -0.112     -0.019      ...                0.0   \n",
      "5707       0.048      0.224      0.099      ...                0.0   \n",
      "6549      -0.112     -0.092     -0.030      ...                0.0   \n",
      "\n",
      "       L3_S36_F3924  L3_S36_F3926  L3_S36_F3930  L3_S36_F3934  L3_S36_F3938  \\\n",
      "13121           0.0           0.0           0.0           0.0           0.0   \n",
      "1776            0.0           0.0           0.0           0.0           0.0   \n",
      "5109            0.0           0.0           0.0           0.0           0.0   \n",
      "5707            0.0           0.0           0.0           0.0           0.0   \n",
      "6549            0.0           0.0           0.0           0.0           0.0   \n",
      "\n",
      "       L3_S37_F3944  L3_S37_F3946  L3_S37_F3948  L3_S37_F3950  \n",
      "13121           0.0           0.0           0.0           0.0  \n",
      "1776            0.0           0.0           0.0           0.0  \n",
      "5109            0.0           0.0           0.0           0.0  \n",
      "5707            0.0           0.0           0.0           0.0  \n",
      "6549            0.0           0.0           0.0           0.0  \n",
      "\n",
      "[5 rows x 172 columns] 13121    0\n",
      "1776     0\n",
      "5109     0\n",
      "5707     0\n",
      "6549     0\n",
      "Name: Response, dtype: int64\n"
     ]
    }
   ],
   "source": [
    "#Remove ID and Response\n",
    "\n",
    "X=df_test\n",
    "y=df_test[\"Response\"]\n",
    "X=X.iloc[:,1:-1] #remove I and Response\n",
    "print(X.head(),y.head())"
   ]
  },
  {
   "cell_type": "code",
   "execution_count": 27,
   "metadata": {},
   "outputs": [
    {
     "name": "stderr",
     "output_type": "stream",
     "text": [
      "C:\\Users\\meghs\\Anaconda3\\lib\\site-packages\\sklearn\\ensemble\\forest.py:248: FutureWarning: The default value of n_estimators will change from 10 in version 0.20 to 100 in 0.22.\n",
      "  \"10 in version 0.20 to 100 in 0.22.\", FutureWarning)\n"
     ]
    },
    {
     "data": {
      "text/plain": [
       "RandomForestClassifier(bootstrap=True, class_weight=None, criterion='gini',\n",
       "            max_depth=None, max_features='auto', max_leaf_nodes=None,\n",
       "            min_impurity_decrease=0.0, min_impurity_split=None,\n",
       "            min_samples_leaf=1, min_samples_split=2,\n",
       "            min_weight_fraction_leaf=0.0, n_estimators=10, n_jobs=None,\n",
       "            oob_score=False, random_state=0, verbose=0, warm_start=False)"
      ]
     },
     "execution_count": 27,
     "metadata": {},
     "output_type": "execute_result"
    }
   ],
   "source": [
    "#Import `RandomForestClassifier`\n",
    "#Feature Selection\n",
    "from sklearn.ensemble import RandomForestClassifier\n",
    "import matplotlib.pyplot as plt\n",
    "%matplotlib inline\n",
    "names = X.columns.values\n",
    "# Build the model\n",
    "rfc = RandomForestClassifier(random_state=0)\n",
    "# Fit the model\n",
    "rfc.fit(X, y)\n"
   ]
  },
  {
   "cell_type": "code",
   "execution_count": 28,
   "metadata": {},
   "outputs": [
    {
     "data": {
      "text/plain": [
       "SelectFromModel(estimator=RandomForestClassifier(bootstrap=True, class_weight=None, criterion='gini',\n",
       "            max_depth=None, max_features='auto', max_leaf_nodes=None,\n",
       "            min_impurity_decrease=0.0, min_impurity_split=None,\n",
       "            min_samples_leaf=1, min_samples_split=2,\n",
       "            min_weight_fraction_leaf=0.0, n_estimators=10, n_jobs=None,\n",
       "            oob_score=False, random_state=0, verbose=0, warm_start=False),\n",
       "        max_features=None, norm_order=1, prefit=False, threshold=0.01)"
      ]
     },
     "execution_count": 28,
     "metadata": {},
     "output_type": "execute_result"
    },
    {
     "data": {
      "image/png": "[encoded data removed]",
      "text/plain": [
       "<Figure size 432x288 with 1 Axes>"
      ]
     },
     "metadata": {
      "needs_background": "light"
     },
     "output_type": "display_data"
    }
   ],
   "source": [
    "from sklearn.feature_selection import SelectFromModel\n",
    "importances = rfc.feature_importances_\n",
    "indices = np.argsort(importances)\n",
    "\n",
    "\n",
    "plt.figure(1)\n",
    "plt.title('Feature Importances')\n",
    "plt.barh(range(len(indices)), importances[indices])\n",
    "plt.xlabel('Relative Importance')\n",
    "\n",
    "sfm = SelectFromModel(rfc, threshold=0.01)\n",
    "sfm.fit(X,y)"
   ]
  },
  {
   "cell_type": "code",
   "execution_count": 29,
   "metadata": {},
   "outputs": [
    {
     "name": "stdout",
     "output_type": "stream",
     "text": [
      "\n",
      " Columns chosen using Random Forest:\n",
      " ['L0_S0_F4', 'L0_S0_F12', 'L0_S0_F18', 'L0_S1_F28', 'L3_S29_F3324', 'L3_S29_F3327', 'L3_S29_F3333', 'L3_S29_F3348', 'L3_S29_F3351', 'L3_S29_F3373', 'L3_S29_F3382', 'L3_S29_F3388', 'L3_S29_F3401', 'L3_S29_F3424', 'L3_S29_F3427', 'L3_S29_F3455', 'L3_S29_F3458', 'L3_S29_F3479', 'L3_S30_F3534', 'L3_S30_F3544', 'L3_S30_F3554', 'L3_S30_F3574', 'L3_S30_F3579', 'L3_S30_F3644', 'L3_S30_F3649', 'L3_S30_F3684', 'L3_S30_F3749', 'L3_S30_F3754', 'L3_S30_F3759', 'L3_S30_F3774', 'L3_S30_F3794', 'L3_S30_F3804', 'L3_S30_F3809', 'L3_S30_F3819', 'L3_S33_F3857', 'L3_S33_F3859', 'L3_S33_F3861']\n"
     ]
    }
   ],
   "source": [
    "names = X.columns.values\n",
    "RF_col = []\n",
    "for feature_list_index in sfm.get_support(indices=True): \n",
    "    #print(names[feature_list_index])\n",
    "    RF_col.append(names[feature_list_index])\n",
    "print('\\n Columns chosen using Random Forest:\\n',RF_col)\n",
    "\n"
   ]
  },
  {
   "cell_type": "code",
   "execution_count": 30,
   "metadata": {},
   "outputs": [
    {
     "name": "stdout",
     "output_type": "stream",
     "text": [
      "\n",
      " Shape of data after choosing important features: (15000, 37)\n"
     ]
    }
   ],
   "source": [
    "X=X[RF_col]\n",
    "print('\\n Shape of data after choosing important features:',X.shape)"
   ]
  },
  {
   "cell_type": "code",
   "execution_count": 31,
   "metadata": {},
   "outputs": [],
   "source": [
    "from sklearn.model_selection import train_test_split\n",
    "X_train, X_val, y_train, y_val = train_test_split(X, y, test_size=0.3, random_state=42)"
   ]
  },
  {
   "cell_type": "code",
   "execution_count": 32,
   "metadata": {},
   "outputs": [
    {
     "name": "stdout",
     "output_type": "stream",
     "text": [
      "Logistic regression,with features extracted by RF\n",
      "Score for training data: 0.6825714285714286\n",
      "Score for validation data: 0.6731111111111111\n"
     ]
    }
   ],
   "source": [
    "#logistic Regression\n",
    "from sklearn.linear_model import LogisticRegression\n",
    "from sklearn import metrics\n",
    "lr = LogisticRegression(penalty='l2',random_state=42, solver='saga')\n",
    "lr.fit(X_train,y_train)\n",
    "print('Logistic regression,with features extracted by RF')\n",
    "print('Score for training data:',lr.score(X_train,y_train))\n",
    "y_val_pred=lr.predict(X_val)\n",
    "print('Score for validation data:',lr.score(X_val,y_val))"
   ]
  },
  {
   "cell_type": "code",
   "execution_count": 33,
   "metadata": {},
   "outputs": [
    {
     "name": "stdout",
     "output_type": "stream",
     "text": [
      "[[1280  820]\n",
      " [ 651 1749]]\n"
     ]
    }
   ],
   "source": [
    "from sklearn.metrics import confusion_matrix\n",
    "confusion_matrix = confusion_matrix(y_val, y_val_pred)\n",
    "print(confusion_matrix)"
   ]
  },
  {
   "cell_type": "code",
   "execution_count": 34,
   "metadata": {},
   "outputs": [
    {
     "name": "stdout",
     "output_type": "stream",
     "text": [
      "              precision    recall  f1-score   support\n",
      "\n",
      "           0       0.66      0.61      0.64      2100\n",
      "           1       0.68      0.73      0.70      2400\n",
      "\n",
      "   micro avg       0.67      0.67      0.67      4500\n",
      "   macro avg       0.67      0.67      0.67      4500\n",
      "weighted avg       0.67      0.67      0.67      4500\n",
      "\n"
     ]
    }
   ],
   "source": [
    "from sklearn.metrics import classification_report\n",
    "print(classification_report(y_val, y_val_pred))"
   ]
  },
  {
   "cell_type": "code",
   "execution_count": 35,
   "metadata": {},
   "outputs": [
    {
     "data": {
      "image/png": "[encoded data removed]",
      "text/plain": [
       "<Figure size 432x288 with 1 Axes>"
      ]
     },
     "metadata": {
      "needs_background": "light"
     },
     "output_type": "display_data"
    }
   ],
   "source": [
    "from sklearn.metrics import roc_auc_score\n",
    "from sklearn.metrics import roc_curve\n",
    "logit_roc_auc = roc_auc_score(y_val, lr.predict(X_val))\n",
    "fpr, tpr, thresholds = roc_curve(y_val, lr.predict_proba(X_val)[:,1])\n",
    "plt.figure()\n",
    "plt.plot(fpr, tpr, label='Logistic Regression (area = %0.2f)' % logit_roc_auc)\n",
    "plt.plot([0, 1], [0, 1],'r--')\n",
    "plt.xlim([0.0, 1.0])\n",
    "plt.ylim([0.0, 1.05])\n",
    "plt.xlabel('False Positive Rate')\n",
    "plt.ylabel('True Positive Rate')\n",
    "plt.title('Receiver operating characteristic')\n",
    "plt.legend(loc=\"lower right\")\n",
    "plt.savefig('Log_ROC')\n",
    "plt.show()"
   ]
  },
  {
   "cell_type": "code",
   "execution_count": 36,
   "metadata": {},
   "outputs": [],
   "source": [
    "X_test=test_num\n",
    "y_test=test_num[\"Response\"]\n",
    "X_test=X_test.iloc[:,1:-1] #remove I and Response\n",
    "X_test=X_test[RF_col]"
   ]
  },
  {
   "cell_type": "code",
   "execution_count": 37,
   "metadata": {},
   "outputs": [
    {
     "name": "stdout",
     "output_type": "stream",
     "text": [
      "Score for test data: 0.6002\n"
     ]
    }
   ],
   "source": [
    "y_pred=lr.predict(X_test)\n",
    "print('Score for test data:',lr.score(X_test,y_test))"
   ]
  },
  {
   "cell_type": "code",
   "execution_count": 38,
   "metadata": {},
   "outputs": [
    {
     "name": "stdout",
     "output_type": "stream",
     "text": [
      "              precision    recall  f1-score   support\n",
      "\n",
      "           0       0.99      0.60      0.75      4976\n",
      "           1       0.00      0.33      0.01        24\n",
      "\n",
      "   micro avg       0.60      0.60      0.60      5000\n",
      "   macro avg       0.50      0.47      0.38      5000\n",
      "weighted avg       0.99      0.60      0.75      5000\n",
      "\n"
     ]
    }
   ],
   "source": [
    "print(classification_report(y_test, y_pred))"
   ]
  },
  {
   "cell_type": "markdown",
   "metadata": {},
   "source": [
    "Since the data had many 0's and Nan's with hi"
   ]
  },
  {
   "cell_type": "code",
   "execution_count": 56,
   "metadata": {},
   "outputs": [],
   "source": [
    "#test_num=pd.read_csv(r'C:\\Users\\meghs\\Downloads\\bosch-production-line-performance\\test_numeric.csv',nrows=10000)\n",
    "#X_test=test_num.iloc[:,1:] #remove Id and Response\n",
    "#X_test= X_test.fillna(0) #Kepping it simple by filling NaN with 0\n",
    "#X_test=X_test[RF_col]\n",
    "#X_test.head()\n",
    "\n",
    "\n",
    "#prediction=lr.predict(X_test)\n",
    "\n",
    "\n",
    "#my_submission = pd.DataFrame({'Id': test_num.Id, 'Pass/Fail': prediction})\n",
    "# you could use any filename. We choose submission here\n",
    "#my_submission.to_csv('submission.csv', index=False)"
   ]
  }
 ],
 "metadata": {
  "kernelspec": {
   "display_name": "Python 3",
   "language": "python",
   "name": "python3"
  },
  "language_info": {
   "codemirror_mode": {
    "name": "ipython",
    "version": 3
   },
   "file_extension": ".py",
   "mimetype": "text/x-python",
   "name": "python",
   "nbconvert_exporter": "python",
   "pygments_lexer": "ipython3",
   "version": "3.6.7"
  }
 },
 "nbformat": 4,
 "nbformat_minor": 2
}
